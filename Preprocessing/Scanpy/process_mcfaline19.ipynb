{
 "cells": [
  {
   "cell_type": "code",
   "execution_count": null,
   "id": "1c0188f3",
   "metadata": {},
   "outputs": [],
   "source": [
    "from matplotlib import pyplot as plt\n",
    "import scanpy as sc\n",
    "import numpy as np\n",
    "import pandas as pd"
   ]
  },
  {
   "cell_type": "markdown",
   "id": "b0d4d5d2",
   "metadata": {},
   "source": [
    "Set the data directory to wherever you downloaded the relevant data from NCBI GEO, accession [GSE114687](https://www.ncbi.nlm.nih.gov/geo/query/acc.cgi?acc=GSE114687)."
   ]
  },
  {
   "cell_type": "code",
   "execution_count": null,
   "id": "0f6d8d4f",
   "metadata": {},
   "outputs": [],
   "source": [
    "mcfaline_data_directory = ''"
   ]
  },
  {
   "cell_type": "code",
   "execution_count": null,
   "id": "f78b15a2",
   "metadata": {},
   "outputs": [],
   "source": [
    "counts = sc.read_mtx(data_directory + 'pseudospace_matrix.mtx.gz').T # Take the transpose because Seurat defines genes as rows\n",
    "genes = pd.read_csv(data_directory + 'pseudospace_genes.tsv.gz', sep='\\t', names=['gene_ids'], index_col=1)\n"
   ]
  },
  {
   "cell_type": "code",
   "execution_count": null,
   "id": "a0115872",
   "metadata": {},
   "outputs": [],
   "source": [
    "metadata = pd.read_csv(data_directory + 'pseudospace_metadata.tsv.gz', sep='\\t', names=humec_metadata.columns[1:])\n",
    "metadata.index = metadata['cell']\n",
    "metadata.drop(labels='cell', axis=1, inplace=True)\n",
    "metadata.index.name = None"
   ]
  },
  {
   "cell_type": "code",
   "execution_count": null,
   "id": "401382b2",
   "metadata": {},
   "outputs": [],
   "source": [
    "# Define the annotated data\n",
    "mcfaline = sc.AnnData(X=counts.X)\n",
    "mcfaline.obs = metadata\n",
    "mcfaline.var = genes\n",
    "mcfaline.var_names_make_unique()"
   ]
  },
  {
   "cell_type": "code",
   "execution_count": null,
   "id": "7bb50894",
   "metadata": {},
   "outputs": [],
   "source": [
    "# We only care about the mock treatment\n",
    "mcfaline = mcfaline[mcfaline.obs['treatment_id'] == 'Mock']"
   ]
  },
  {
   "cell_type": "code",
   "execution_count": null,
   "id": "6fe4940f",
   "metadata": {},
   "outputs": [],
   "source": [
    "mcfaline.layers['counts'] = mcfaline.X.copy() # Store the raw counts\n",
    "\n",
    "# Normalise the data\n",
    "sc.pp.normalize_total(mcfaline, target_sum=1e4)\n",
    "sc.pp.log1p(mcfaline)"
   ]
  },
  {
   "cell_type": "code",
   "execution_count": null,
   "id": "130f1e2b",
   "metadata": {},
   "outputs": [],
   "source": [
    "# Identify the highly-variable genes. We use the CellRanger routine provided in Scanpy.\n",
    "target_genes = 2000\n",
    "sc.pp.highly_variable_genes(mcfaline, flavor='cell_ranger', n_top_genes=target_genes, batch_key='spatial_id')"
   ]
  },
  {
   "cell_type": "code",
   "execution_count": null,
   "id": "22302778",
   "metadata": {},
   "outputs": [],
   "source": [
    "# Calculate the KNN graph for clustering\n",
    "sc.pp.pca(mcfaline, use_highly_variable=True)\n",
    "sc.pp.neighbors(mcfaline, n_neighbors=30)"
   ]
  },
  {
   "cell_type": "code",
   "execution_count": null,
   "id": "f14569c4",
   "metadata": {},
   "outputs": [],
   "source": [
    "sc.tl.leiden(mcfaline, resolution=0.3, key_added='leiden')"
   ]
  },
  {
   "cell_type": "code",
   "execution_count": null,
   "id": "1de02792",
   "metadata": {},
   "outputs": [],
   "source": [
    "sc.tl.rank_genes_groups(adata, 'leiden', key_added = 'leiden', method='wilcoxon')"
   ]
  },
  {
   "cell_type": "markdown",
   "id": "00a00a13",
   "metadata": {},
   "source": [
    "Plot the cell state and spatial region compositions to show why we've defined these as such. "
   ]
  },
  {
   "cell_type": "code",
   "execution_count": null,
   "id": "ec36d201",
   "metadata": {},
   "outputs": [],
   "source": [
    "new_cluster_names = ['Intermediate 1', 'Intermediate 2', 'Epithelial', 'Mesenchymal']\n",
    "mcfaline.rename_categories('leiden', new_cluster_names)"
   ]
  },
  {
   "cell_type": "code",
   "execution_count": null,
   "id": "6b5d2da3",
   "metadata": {},
   "outputs": [],
   "source": [
    "mcfaline_df = mcfaline.obs\n",
    "\n",
    "tmp = pd.crosstab(mcfaline_df['spatial_id'], mcfaline_df['leiden'], normalize='index')\n",
    "tmp = tmp.reindex(['inner', 'outer'])\n",
    "\n",
    "axis = tmp.plot.bar(stacked=True, width=0.9, grid=False, figsize=(6,10), linewidth=1.0)\n",
    "# axis.invert_yaxis()\n",
    "plt.legend(loc='center left', bbox_to_anchor=(1.0, 0.5))\n",
    "fig = axis.get_figure()"
   ]
  },
  {
   "cell_type": "code",
   "execution_count": null,
   "id": "92f075f8",
   "metadata": {},
   "outputs": [],
   "source": [
    "mcfaline_df = mcfaline.obs\n",
    "\n",
    "tmp = pd.crosstab(mcfaline_df['leiden'], mcfaline_df['spatial_id'], normalize='index')\n",
    "tmp = tmp.reindex(['Epithelial', 'Intermediate 1', 'Intermediate 2', 'Mesenchymal'])\n",
    "\n",
    "axis = tmp.plot.bar(stacked=True, width=0.9, grid=False, figsize=(6,10), linewidth=1.0)\n",
    "# axis.invert_yaxis()\n",
    "plt.legend(loc='center left', bbox_to_anchor=(1.0, 0.5))\n",
    "fig = axis.get_figure()"
   ]
  },
  {
   "cell_type": "code",
   "execution_count": null,
   "id": "e7ba3a7a",
   "metadata": {},
   "outputs": [],
   "source": [
    "# Save the data\n",
    "mcfaline.write(mcfaline_data_directory + 'mcfaline19_merged.h5ad', compression='gzip')"
   ]
  }
 ],
 "metadata": {
  "kernelspec": {
   "display_name": "Python 3 (ipykernel)",
   "language": "python",
   "name": "python3"
  },
  "language_info": {
   "codemirror_mode": {
    "name": "ipython",
    "version": 3
   },
   "file_extension": ".py",
   "mimetype": "text/x-python",
   "name": "python",
   "nbconvert_exporter": "python",
   "pygments_lexer": "ipython3",
   "version": "3.8.13"
  }
 },
 "nbformat": 4,
 "nbformat_minor": 5
}

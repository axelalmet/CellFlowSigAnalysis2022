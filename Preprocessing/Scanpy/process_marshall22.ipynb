{
 "cells": [
  {
   "cell_type": "code",
   "execution_count": null,
   "id": "e7647d3c",
   "metadata": {},
   "outputs": [],
   "source": [
    "import scanpy as sc\n",
    "import anndata as ad\n",
    "from scipy.sparse import csr_matrix\n",
    "import numpy as np\n",
    "import pandas as pd\n",
    "\n",
    "import matplotlib.pyplot as plt"
   ]
  },
  {
   "cell_type": "markdown",
   "id": "9b801188",
   "metadata": {},
   "source": [
    "The data for this study was downloaded from NCBI GEO [GSE190094](https://www.ncbi.nlm.nih.gov/geo/query/acc.cgi?acc=GSE190094). It is a bit of a pain to sift through, but for this analysis, we only need the samples marked as 'UMOD-WT/WT-1x' and 'UMOD-KI/KI-1x'."
   ]
  },
  {
   "cell_type": "code",
   "execution_count": null,
   "id": "3f22b7f4",
   "metadata": {},
   "outputs": [],
   "source": [
    "marshall_directory = '' # Replace with wherever you saved the data.\n",
    "WT_samples = {'01':['1a', '1b', '1c', '1d', '1e']}\n",
    "KI_samples = {'01':['1a', '1b', '1c', '1d', '1e']}"
   ]
  },
  {
   "cell_type": "code",
   "execution_count": null,
   "id": "151caf7a",
   "metadata": {},
   "outputs": [],
   "source": [
    "# Define the WT data first\n",
    "WT_datasets = []\n",
    "\n",
    "for sample in WT_samples:\n",
    "    sub_samples = WT_samples[sample]\n",
    "    for sub in sub_samples:\n",
    "        wt_beadlocations_qc = pd.read_csv(marshall_directory + '/WT/' + str(sample) + '/WT_' + str(sub) + '_BeadLocationsForR_qc.csv.gz', index_col=0)\n",
    "        wt_beadlocations_qc.index.name = None\n",
    "        \n",
    "        wt_dge = pd.read_csv(marshall_directory + '/WT/' + str(sample) + '/WT_' + str(sub) + '_MappedDGEForR.csv.gz', index_col=0).T\n",
    "        \n",
    "        adata = sc.AnnData(X=csr_matrix(wt_dge.to_numpy()), var=pd.DataFrame(index=wt_dge.columns), obs=pd.DataFrame(index=wt_dge.index))\n",
    "        \n",
    "        # Subset based on the cell types\n",
    "        adata = adata[wt_beadlocations_qc.index, :]\n",
    "        adata.obs = wt_beadlocations_qc\n",
    "        adata.obs['sample'] = 'WT'\n",
    "        adata.obs['sub_sample'] = 'WT_' + str(sample) + '_' + str(sub)\n",
    "        adata.X[np.isnan(adata.X.toarray())] = 0.0\n",
    "        \n",
    "        WT_datasets.append(adata)\n",
    "        \n",
    "adata_wt = WT_datasets[0].concatenate(WT_datasets[1:], join='outer')"
   ]
  },
  {
   "cell_type": "code",
   "execution_count": null,
   "id": "43998f49",
   "metadata": {},
   "outputs": [],
   "source": [
    "KI_datasets = []\n",
    "\n",
    "# for sample in OB_samples:\n",
    "for sample in KI_samples:\n",
    "    sub_samples = KI_samples[sample]\n",
    "    for sub in sub_samples:\n",
    "        ki_beadlocations_qc = pd.read_csv(marshall_directory + '/KI/' + str(sample) + '/KI_' + str(sub) + '_BeadLocationsForR_qc.csv.gz', index_col=0)\n",
    "        ki_beadlocations_qc.index.name = None\n",
    "        \n",
    "        ki_dge = pd.read_csv(marshall_directory + '/KI/' + str(sample) + '/KI_' + str(sub) + '_MappedDGEForR.csv.gz', index_col=0).T\n",
    "        \n",
    "        adata = sc.AnnData(X=csr_matrix(ki_dge.to_numpy()), var=pd.DataFrame(index=ki_dge.columns), obs=pd.DataFrame(index=ki_dge.index))\n",
    "        \n",
    "        # Subset based on the cell types\n",
    "        adata = adata[ki_beadlocations_qc.index, :]\n",
    "        adata.obs = ki_beadlocations_qc\n",
    "        adata.obs['sample'] = 'KI'\n",
    "        adata.obs['sub_sample'] = 'KI_' + str(sample) + '_' + str(sub)\n",
    "        adata.X[np.isnan(adata.X.toarray())] = 0.0\n",
    "        \n",
    "        KI_datasets.append(adata)\n",
    "        \n",
    "adata_ki = KI_datasets[0].concatenate(KI_datasets[1:], join='outer')"
   ]
  },
  {
   "cell_type": "code",
   "execution_count": null,
   "id": "94f287f7",
   "metadata": {},
   "outputs": [],
   "source": [
    "# Define the merged data now\n",
    "adata_marshall = adata_wt.concatenate(adata_ki, join='outer')"
   ]
  },
  {
   "cell_type": "code",
   "execution_count": null,
   "id": "f0754ca2",
   "metadata": {},
   "outputs": [],
   "source": [
    "sc.pp.filter_genes(adata_marshall, min_cells=1) # Filter out genes with low expression\n",
    "\n",
    "adata_marshall.layers['counts'] = adata_marshall.X.copy() # Store raw counts\n",
    "sc.pp.normalize_total(adata_marshall, inplace=True, target_sum=1e4) # Normalise\n",
    "sc.pp.log1p(adata_marshall) # Log-transform"
   ]
  },
  {
   "cell_type": "code",
   "execution_count": null,
   "id": "4a4e5443",
   "metadata": {},
   "outputs": [],
   "source": [
    "# Save the data now\n",
    "adata_marshall.write(marshall_data_directory + '/marshall22_umod_merged.h5ad')"
   ]
  }
 ],
 "metadata": {
  "kernelspec": {
   "display_name": "Python 3 (ipykernel)",
   "language": "python",
   "name": "python3"
  },
  "language_info": {
   "codemirror_mode": {
    "name": "ipython",
    "version": 3
   },
   "file_extension": ".py",
   "mimetype": "text/x-python",
   "name": "python",
   "nbconvert_exporter": "python",
   "pygments_lexer": "ipython3",
   "version": "3.8.13"
  }
 },
 "nbformat": 4,
 "nbformat_minor": 5
}

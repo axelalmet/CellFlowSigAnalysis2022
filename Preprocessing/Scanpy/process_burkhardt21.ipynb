{
 "cells": [
  {
   "cell_type": "code",
   "execution_count": null,
   "id": "65c12458",
   "metadata": {},
   "outputs": [],
   "source": [
    "from matplotlib import pyplot as plt\n",
    "import scanpy as sc\n",
    "import scanorama as scrama\n",
    "import numpy as np\n",
    "import pandas as pd"
   ]
  },
  {
   "cell_type": "markdown",
   "id": "4ac131a3",
   "metadata": {},
   "source": [
    "You need to set this to wherever you downloaded the data from NCBI GEO Datasets, accession [GSE161465](https://www.ncbi.nlm.nih.gov/geo/query/acc.cgi?acc=GSE161465)"
   ]
  },
  {
   "cell_type": "code",
   "execution_count": null,
   "id": "929c6046",
   "metadata": {},
   "outputs": [],
   "source": [
    "burkhardt_data_directory = '' "
   ]
  },
  {
   "cell_type": "code",
   "execution_count": null,
   "id": "314d8250",
   "metadata": {},
   "outputs": [],
   "source": [
    "burkhardt = sc.read_h5ad(burkhardt_data_directory + 'filtered_counts.h5ad')"
   ]
  },
  {
   "cell_type": "code",
   "execution_count": null,
   "id": "c42a3557",
   "metadata": {},
   "outputs": [],
   "source": [
    "burkhardt_meta = pd.read_csv(burkhardt_data_directory + 'metadata.csv')"
   ]
  },
  {
   "cell_type": "code",
   "execution_count": null,
   "id": "8b646d47",
   "metadata": {},
   "outputs": [],
   "source": [
    "burkhardt_gene_symbols = pd.DataFrame(index=burkhardt_index, data=burkhardt.var.index.str.split(\" (|)\").str[2].str.split('(').str[1])\n",
    "burkhardt_gene_symbols.rename(columns={0:'gene_symbols'}, inplace=True)\n",
    "burkhardt_gene_symbols['gene_symbols'].str.split(')').str[0]"
   ]
  },
  {
   "cell_type": "code",
   "execution_count": null,
   "id": "4609b723",
   "metadata": {},
   "outputs": [],
   "source": [
    "burkhardt.var = burkhardt_gene_symbols\n",
    "burkhardt.var_names_make_unique()"
   ]
  },
  {
   "cell_type": "code",
   "execution_count": null,
   "id": "03353335",
   "metadata": {},
   "outputs": [],
   "source": [
    "# Normalize and log-transform\n",
    "burkhardt.layers['counts'] = burkhardt.X.copy() # Store raw counts\n",
    "\n",
    "# Normalise the data\n",
    "sc.pp.normalize_total(burkhardt, target_sum=1e4)\n",
    "sc.pp.log1p(burkhardt)"
   ]
  },
  {
   "cell_type": "code",
   "execution_count": null,
   "id": "b6ee5aa5",
   "metadata": {},
   "outputs": [],
   "source": [
    "# Identify the highly-variable genes. We use the CellRanger routine provided in Scanpy.\n",
    "target_genes = 2000\n",
    "sc.pp.highly_variable_genes(burkhardt, flavor='cell_ranger', n_top_genes=target_genes, batch_key='Condition')\n",
    "sc.pp.pca(burkhardt, use_highly_variable=True)\n",
    "sc.pp.neighbors(burkhardt, n_neighbors=30)\n",
    "sc.tl.umap(burkhardt)\n",
    "sc.pl.umap(burkhardt, color='Condition')"
   ]
  },
  {
   "cell_type": "code",
   "execution_count": null,
   "id": "66957174",
   "metadata": {},
   "outputs": [],
   "source": [
    "# As we don't have enough target genes, we need to consider HVGs in all but one batches.\n",
    "n_batches = len(burkhardt.obs['Donor'].cat.categories)\n",
    "# These are the genes that are variable across all batches\n",
    "nbatch1_dispersions = burkhardt.var['dispersions_norm'][burkhardt.var.highly_variable_nbatches > n_batches - 1]\n",
    "nbatch1_dispersions.sort_values(ascending=False, inplace=True)\n",
    "print(len(nbatch1_dispersions))\n",
    "\n",
    "# Fill up the genes now, using this method from the Theis lab\n",
    "enough = False\n",
    "hvg = nbatch1_dispersions.index[:]\n",
    "not_n_batches = 1\n",
    "\n",
    "# We'll go down one by one, until we're selecting HVGs from just a single gbatch\n",
    "while not enough:\n",
    "    \n",
    "    target_genes_diff = target_genes - len(hvg) # Get the number of genes we still need to fill up\n",
    "    \n",
    "    tmp_dispersions = burkhardt.var['dispersions_norm'][burkhardt.var.highly_variable_nbatches == (n_batches - not_n_batches)]\n",
    "    \n",
    "    # If we haven't hit the target gene numbers, add this to the list and we repeat this iteration\n",
    "    if len(tmp_dispersions) < target_genes_diff:\n",
    "        \n",
    "        hvg = hvg.append(tmp_dispersions.index)\n",
    "        not_n_batches += 1\n",
    "        \n",
    "    else:\n",
    "        \n",
    "        tmp_dispersions.sort_values(ascending=False, inplace=True)\n",
    "        hvg = hvg.append(tmp_dispersions.index[:target_genes_diff])\n",
    "        enough = True"
   ]
  },
  {
   "cell_type": "code",
   "execution_count": null,
   "id": "fb802d4e",
   "metadata": {},
   "outputs": [],
   "source": [
    "# Subset the data on the HVG to speed things up\n",
    "burkhardt_hvg = burkhardt[:, hvg] # Filter out genes that do not vary much across cells"
   ]
  },
  {
   "cell_type": "code",
   "execution_count": null,
   "id": "156b8f0a",
   "metadata": {},
   "outputs": [],
   "source": [
    "# Split the data into batches (marked by 'Condition')\n",
    "burkhardt_split = []\n",
    "\n",
    "for sample in burkhardt_hvg.obs['Condition'].unique():\n",
    "    burkhardt_split.append(burkhardt_hvg[burkhardt_hvg.obs['Condition']==sample].copy())"
   ]
  },
  {
   "cell_type": "code",
   "execution_count": null,
   "id": "bb5a9b9f",
   "metadata": {},
   "outputs": [],
   "source": [
    "# Now we run Scanorama on the split data. (I find that we don't really need the batch-corrected data for these datasets)\n",
    "scrama.integrate_scanpy(burkhardt_split, ds_names = list(burkhardt_hvg.obs['Condition'].unique()))"
   ]
  },
  {
   "cell_type": "code",
   "execution_count": null,
   "id": "e75c039d",
   "metadata": {},
   "outputs": [],
   "source": [
    "embeddings = [adata.obsm['X_scanorama'] for adata in burkhardt_split]\n",
    "\n",
    "# Consider when we just take the embedding\n",
    "embeddings_joined = np.concatenate(embeddings, axis=0)\n",
    "burkhardt.obsm['X_SC'] = embeddings_joined"
   ]
  },
  {
   "cell_type": "code",
   "execution_count": null,
   "id": "1c75562e",
   "metadata": {},
   "outputs": [],
   "source": [
    "# Run the UMAP on scanorama embeddings\n",
    "sc.pp.neighbors(burkhardt, use_rep = \"X_SC\", n_neighbors=30)\n",
    "sc.tl.umap(burkhardt)"
   ]
  },
  {
   "cell_type": "code",
   "execution_count": null,
   "id": "4a1cfd8f",
   "metadata": {},
   "outputs": [],
   "source": [
    "sc.tl.leiden(burkhardt, resolution=0.2, key_added='leiden')"
   ]
  },
  {
   "cell_type": "code",
   "execution_count": null,
   "id": "24694eea",
   "metadata": {},
   "outputs": [],
   "source": [
    "new_cluster_names = ['Alpha 1', 'Beta 1', 'Alpha 2', 'Beta 2', 'Delta', 'Beta 3']\n",
    "burkhardt.rename_categories('leiden', new_cluster_names)"
   ]
  },
  {
   "cell_type": "markdown",
   "id": "870f00f9",
   "metadata": {},
   "source": [
    "Rename the alpha and beta clusters to just 'Alpha' and 'Beta'"
   ]
  },
  {
   "cell_type": "code",
   "execution_count": null,
   "id": "bcbb1b34",
   "metadata": {},
   "outputs": [],
   "source": [
    "burkhardt.obs['leiden'].cat.rename_categories({'Alpha 1': 'Alpha', 'Alpha 2': 'Alpha',\n",
    "                                               'Beta 1': 'Beta', 'Beta 2': 'Beta',\n",
    "                                               'Beta 3': 'Beta'}, inplace=True)"
   ]
  },
  {
   "cell_type": "code",
   "execution_count": null,
   "id": "78c501e4",
   "metadata": {},
   "outputs": [],
   "source": [
    "# Save the data\n",
    "burkhardt.write(burkhardt_data_directory + 'burkhardt21_merged.h5ad', compression='gzip')"
   ]
  }
 ],
 "metadata": {
  "kernelspec": {
   "display_name": "Python 3 (ipykernel)",
   "language": "python",
   "name": "python3"
  },
  "language_info": {
   "codemirror_mode": {
    "name": "ipython",
    "version": 3
   },
   "file_extension": ".py",
   "mimetype": "text/x-python",
   "name": "python",
   "nbconvert_exporter": "python",
   "pygments_lexer": "ipython3",
   "version": "3.8.13"
  }
 },
 "nbformat": 4,
 "nbformat_minor": 5
}

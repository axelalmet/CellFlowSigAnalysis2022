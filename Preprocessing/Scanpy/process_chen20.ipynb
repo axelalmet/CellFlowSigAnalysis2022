{
 "cells": [
  {
   "cell_type": "code",
   "execution_count": null,
   "id": "c39f8776",
   "metadata": {},
   "outputs": [],
   "source": [
    "import scanpy as sc\n",
    "import anndata as ad\n",
    "from scipy.sparse import csr_matrix\n",
    "import numpy as np\n",
    "import pandas as pd\n",
    "\n",
    "import matplotlib.pyplot as plt"
   ]
  },
  {
   "cell_type": "markdown",
   "id": "ca8c13c7",
   "metadata": {},
   "source": [
    "Replace the below with wherever you saved the downloaded the Alzheimer's ST data, available from [here](https://www.synapse.org/#!Synapse:syn22153884/wiki/603937)"
   ]
  },
  {
   "cell_type": "code",
   "execution_count": null,
   "id": "7a17184b",
   "metadata": {},
   "outputs": [],
   "source": [
    "chen_data_directory = ''"
   ]
  },
  {
   "cell_type": "code",
   "execution_count": null,
   "id": "b405dc20",
   "metadata": {},
   "outputs": [],
   "source": [
    "# Load the metadata\n",
    "chen_meta = pd.read_csv(chen_data_directory + 'spot_metadata.tsv.gz', delimiter = '\\t')\n",
    "\n",
    "# Load the raw counts. This takes a long time, but I don't know how else to load the spot data.\n",
    "chen_df = pd.read_csv(chen_data_directory + 'raw_counts.txt.gz')\n",
    "chen_df.rename(columns={'newindex':'Spot'}, inplace=True)"
   ]
  },
  {
   "cell_type": "code",
   "execution_count": null,
   "id": "b9445af0",
   "metadata": {},
   "outputs": [],
   "source": [
    "# Define the anndata object\n",
    "adata_chen = ad.AnnData(X=csr_matrix(chen_df[chen_df.columns[1:]].to_numpy()),\n",
    "                      obs=pd.DataFrame(index=chen_df['Spot']),\n",
    "                      var=pd.DataFrame(index=chen_df.columns[1:]))"
   ]
  },
  {
   "cell_type": "code",
   "execution_count": null,
   "id": "4936567a",
   "metadata": {},
   "outputs": [],
   "source": [
    "# Subset the data to the spots where the meta data is defined\n",
    "adata_chen = adata_chen[chen_meta.index, :]\n",
    "adata_chen.obs = chen_meta\n",
    "\n",
    "# Cleaning up\n",
    "adata_chen.obs.index = chen_meta['Spot']\n",
    "adata_chen.obs.drop('Spot', axis=1, inplace=True)"
   ]
  },
  {
   "cell_type": "code",
   "execution_count": null,
   "id": "fd4922aa",
   "metadata": {},
   "outputs": [],
   "source": [
    "# If you want to plot the data using e.g. Squidpy, you need to save the coordinates to obsm\n",
    "adata_chen.obsm['spatial'] = adata_chen.obs[['coord_X', 'coord_Y']].to_numpy()"
   ]
  },
  {
   "cell_type": "code",
   "execution_count": null,
   "id": "9e64378e",
   "metadata": {},
   "outputs": [],
   "source": [
    "# Filter out genes with low expression\n",
    "sc.pp.filter_genes(adata_chen, min_cells=10) # Could probably set min_cells = 1, given how Visium works"
   ]
  },
  {
   "cell_type": "code",
   "execution_count": null,
   "id": "6479f8d9",
   "metadata": {},
   "outputs": [],
   "source": [
    "# We need to deal with the NaN values before log-transforming\n",
    "adata_chen.X[np.isnan(adata_chen.X.toarray())] = 0.0"
   ]
  },
  {
   "cell_type": "code",
   "execution_count": null,
   "id": "31818aca",
   "metadata": {},
   "outputs": [],
   "source": [
    "adata_chen.layers['counts'] = adata_chen.X.copy() # Save raw counts\n",
    "sc.pp.normalize_total(adata_chen, inplace=True, target_sum=1e4)  # Normalise\n",
    "sc.pp.log1p(adata_chen) # Log-transform"
   ]
  },
  {
   "cell_type": "code",
   "execution_count": null,
   "id": "54f9ae52",
   "metadata": {},
   "outputs": [],
   "source": [
    "# Final bit of housekeeping\n",
    "adata_chen = adata_chen[~adata_chen.obs['AT'].isnull()]"
   ]
  },
  {
   "cell_type": "code",
   "execution_count": null,
   "id": "873e6808",
   "metadata": {},
   "outputs": [],
   "source": [
    "# Save data\n",
    "adata_chen.write(chen_data_directory + 'chen20_merged.h5ad', compression='gzip')"
   ]
  }
 ],
 "metadata": {
  "kernelspec": {
   "display_name": "Python 3 (ipykernel)",
   "language": "python",
   "name": "python3"
  },
  "language_info": {
   "codemirror_mode": {
    "name": "ipython",
    "version": 3
   },
   "file_extension": ".py",
   "mimetype": "text/x-python",
   "name": "python",
   "nbconvert_exporter": "python",
   "pygments_lexer": "ipython3",
   "version": "3.8.13"
  }
 },
 "nbformat": 4,
 "nbformat_minor": 5
}

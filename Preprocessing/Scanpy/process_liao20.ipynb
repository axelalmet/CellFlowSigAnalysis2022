{
 "cells": [
  {
   "cell_type": "code",
   "execution_count": null,
   "id": "f2bb3b20",
   "metadata": {},
   "outputs": [],
   "source": [
    "from matplotlib import pyplot as plt\n",
    "from scipy.sparse import csr_matrix\n",
    "import scanpy as sc\n",
    "import numpy as np\n",
    "import pandas as pd"
   ]
  },
  {
   "cell_type": "markdown",
   "id": "7a323048",
   "metadata": {},
   "source": [
    "Set the below variable to wherever you downloaded the data from NCBI GEO [GSE145926](https://www.ncbi.nlm.nih.gov/geo/query/acc.cgi?acc=GSE145926)"
   ]
  },
  {
   "cell_type": "code",
   "execution_count": null,
   "id": "a6447ca1",
   "metadata": {},
   "outputs": [],
   "source": [
    "liao_data_directory = ''"
   ]
  },
  {
   "cell_type": "markdown",
   "id": "1e3fc10e",
   "metadata": {},
   "source": [
    "Load the cell meta data, including the subclusters so that we can remove doublets."
   ]
  },
  {
   "cell_type": "code",
   "execution_count": 3,
   "id": "df25f622",
   "metadata": {},
   "outputs": [],
   "source": [
    "adata_liao = sc.read(liao_data_directory + '_exprmatrix.tsv.gz').T"
   ]
  },
  {
   "cell_type": "code",
   "execution_count": null,
   "id": "48bf7a0d",
   "metadata": {},
   "outputs": [],
   "source": [
    "liao_cellmeta = pd.read_csv(data_directory + 'liao20_meta.tsv', sep='\\t', index_col=0)\n",
    "liao_cellmeta.index.name = None\n",
    "\n",
    "liao_tcell_meta = pd.read_csv(data_directory + 'liao20_tcell_meta.txt', sep='\\t', index_col=0)\n",
    "liao_tcell_meta.index.name = None\n",
    "\n",
    "liao_myeloid_meta = pd.read_csv(data_directory + 'liao20_myeloid_meta.txt', sep='\\t', index_col=0)\n",
    "liao_myeloid_meta.index.name = None"
   ]
  },
  {
   "cell_type": "markdown",
   "id": "6c66b5a0",
   "metadata": {},
   "source": [
    "Add the cell meta data and the cell sub-type labels"
   ]
  },
  {
   "cell_type": "code",
   "execution_count": null,
   "id": "045eeb5a",
   "metadata": {},
   "outputs": [],
   "source": [
    "adata_liao.obs = liao_cellmeta"
   ]
  },
  {
   "cell_type": "code",
   "execution_count": null,
   "id": "8f579405",
   "metadata": {},
   "outputs": [],
   "source": [
    "adata_liao.obs.sample = pd.Series(adata_liao.obs.sample, dtype='category')\n",
    "adata_liao.obs.sample_new = pd.Series(adata_liao.obs.sample_new, dtype='category')\n",
    "adata_liao.obs.group = pd.Series(adata_liao.obs.group, dtype='category')\n",
    "adata_liao.obs.disease = pd.Series(adata_liao.obs.disease, dtype='category')\n",
    "adata_liao.obs.hasnCoV = pd.Series(adata_liao.obs.hasnCoV, dtype='category')\n",
    "adata_liao.obs.cluster = pd.Series(adata_liao.obs.cluster, dtype='category')\n",
    "adata_liao.obs.celltype = pd.Series(adata_liao.obs.celltype, dtype='category')"
   ]
  },
  {
   "cell_type": "code",
   "execution_count": null,
   "id": "9bb8d13e",
   "metadata": {},
   "outputs": [],
   "source": [
    "# Add the annotation data\n",
    "liao_tcell_meta.rename(columns={'celltype':'celltype_sub'}, inplace=True)\n",
    "liao_myeloid_meta.rename(columns={'celltype':'celltype_sub'}, inplace=True)\n",
    "liao_tcell_meta_copy = pd.DataFrame(liao_tcell_meta['celltype_sub'])\n",
    "liao_myeloid_meta_copy = pd.DataFrame(liao_myeloid_meta['celltype_sub'])\n",
    "adata_liao.obs = adata_liao.obs.merge(liao_tcell_meta_copy, how='left', left_index=True, right_index=True)\n",
    "adata_liao.obs.update(liao_myeloid_meta_copy)"
   ]
  },
  {
   "cell_type": "code",
   "execution_count": null,
   "id": "19eaaf4e",
   "metadata": {},
   "outputs": [],
   "source": [
    "liao_genemeta = pd.read_csv(data_directory + 'liao20_gene_meta.tsv', sep=',', index_col=0)"
   ]
  },
  {
   "cell_type": "code",
   "execution_count": null,
   "id": "fd728723",
   "metadata": {},
   "outputs": [],
   "source": [
    "adata_liao.var = liao_genemeta # Set the gene metadata as the variables dataframe"
   ]
  },
  {
   "cell_type": "code",
   "execution_count": null,
   "id": "04392627",
   "metadata": {},
   "outputs": [],
   "source": [
    "# Normalize and log-transform\n",
    "adata_liao.X = csr_matrix(adata_liao.X.copy())\n",
    "adata_liao.layers['counts'] = csr_matrix(adata_liao.X.copy())\n",
    "\n",
    "# Normalise the data\n",
    "sc.pp.normalize_total(adata_liao, target_sum=1e4)\n",
    "sc.pp.log1p(adata_liao)"
   ]
  },
  {
   "cell_type": "code",
   "execution_count": null,
   "id": "a7ae61c8",
   "metadata": {},
   "outputs": [],
   "source": [
    "# Filter out doublets now\n",
    "adata_liao_sub = adata_liao[(adata_liao.obs.celltype_sub != 'Doublet')].copy()"
   ]
  },
  {
   "cell_type": "code",
   "execution_count": null,
   "id": "9d2b3f40",
   "metadata": {},
   "outputs": [],
   "source": [
    "# Save the data\n",
    "adata_liao_sub.write(liao_data_directory + 'liao20_sub.h5ad', compression='gzip')"
   ]
  }
 ],
 "metadata": {
  "kernelspec": {
   "display_name": "Python 3 (ipykernel)",
   "language": "python",
   "name": "python3"
  },
  "language_info": {
   "codemirror_mode": {
    "name": "ipython",
    "version": 3
   },
   "file_extension": ".py",
   "mimetype": "text/x-python",
   "name": "python",
   "nbconvert_exporter": "python",
   "pygments_lexer": "ipython3",
   "version": "3.8.13"
  }
 },
 "nbformat": 4,
 "nbformat_minor": 5
}
